{
  "nbformat": 4,
  "nbformat_minor": 0,
  "metadata": {
    "colab": {
      "provenance": [],
      "collapsed_sections": [
        "ef2t07-F1lgJ",
        "5wqiRaV82O72",
        "qCDqMizE2x2m",
        "coaTJLhL3aoO",
        "nvPq3B7-3mhD",
        "qGiGlHzl5CKi",
        "S-LIj4S75KTp",
        "Ni9u0t586chF",
        "Bp4zS9y82tJl"
      ],
      "include_colab_link": true
    },
    "kernelspec": {
      "name": "python3",
      "display_name": "Python 3"
    },
    "language_info": {
      "name": "python"
    }
  },
  "cells": [
    {
      "cell_type": "markdown",
      "metadata": {
        "id": "view-in-github",
        "colab_type": "text"
      },
      "source": [
        "<a href=\"https://colab.research.google.com/github/Kenny-0h/Programa-o-Matem-tica/blob/main/Analise_de_sensibilidade_Exercicio.ipynb\" target=\"_parent\"><img src=\"https://colab.research.google.com/assets/colab-badge.svg\" alt=\"Open In Colab\"/></a>"
      ]
    },
    {
      "cell_type": "markdown",
      "source": [
        "**([Exemplo 4.3-2, Taha, H. A. (2008). Pesquisa operacional. Pearson Education**). A Toyco monta três tipos de brinquedos - trens, caminhões e carros - usando três operações. Os tempos de montagem diários disponíveis para as três operações são 430, 460 e 420 minutos, respectivamente, e as receitas por trem, caminhão e carro de brinquedo são \\$3, \\$2 e \\$5, respectivamente. Os tempos de montagem por trem para as três operações são um, três e um minutos, respectivamente. Os tempos correspondentes por caminhãoe e por carro são (2, 0, 4) e (1, 2, 0) minutos (um tempo zero indica que aa operação não é usada).\n",
        "\n"
      ],
      "metadata": {
        "id": "HMhoYagroG-x"
      }
    },
    {
      "cell_type": "markdown",
      "source": [
        "**Parte 1:** Encontre a quantidade de trens, caminhões e carros a serem montados, que maximize as receitas."
      ],
      "metadata": {
        "id": "0dd8omdmrKNb"
      }
    },
    {
      "cell_type": "markdown",
      "source": [
        "# Instalar Gurobi"
      ],
      "metadata": {
        "id": "ef2t07-F1lgJ"
      }
    },
    {
      "cell_type": "code",
      "source": [
        "!pip install gurobipy"
      ],
      "metadata": {
        "colab": {
          "base_uri": "https://localhost:8080/"
        },
        "id": "U2_-SfrM1n6Y",
        "outputId": "c75bb9ae-b83b-40f0-9b77-26b20c466dd1"
      },
      "execution_count": null,
      "outputs": [
        {
          "output_type": "stream",
          "name": "stdout",
          "text": [
            "Requirement already satisfied: gurobipy in /usr/local/lib/python3.12/dist-packages (12.0.3)\n"
          ]
        }
      ]
    },
    {
      "cell_type": "markdown",
      "source": [
        "# Declaração do objeto que representa o modelo matemático"
      ],
      "metadata": {
        "id": "5wqiRaV82O72"
      }
    },
    {
      "cell_type": "code",
      "source": [
        "from gurobipy import Model, GRB\n",
        "\n",
        "#Criar modelo\n",
        "modelo = Model(\"Tocyo\")"
      ],
      "metadata": {
        "id": "geN_NFnkrZWN"
      },
      "execution_count": null,
      "outputs": []
    },
    {
      "cell_type": "markdown",
      "source": [
        "# Variáveis de decisão"
      ],
      "metadata": {
        "id": "qCDqMizE2x2m"
      }
    },
    {
      "cell_type": "code",
      "source": [
        "tren_var = modelo.addVar(name=\"tren\", vtype=GRB.CONTINUOUS, lb=0)\n",
        "caminhao_var = modelo.addVar(name=\"caminhao\", vtype=GRB.CONTINUOUS, lb=0)\n",
        "carro_var = modelo.addVar(name=\"carro\", vtype=GRB.CONTINUOUS, lb=0)"
      ],
      "metadata": {
        "id": "TZ3TQBSy21uF"
      },
      "execution_count": null,
      "outputs": []
    },
    {
      "cell_type": "markdown",
      "source": [
        "# Função Objetivo"
      ],
      "metadata": {
        "id": "coaTJLhL3aoO"
      }
    },
    {
      "cell_type": "code",
      "source": [
        "modelo.setObjective(3*tren_var + 2*caminhao_var + 5*carro_var, GRB.MAXIMIZE)"
      ],
      "metadata": {
        "id": "7ssF1mTV3doT"
      },
      "execution_count": null,
      "outputs": []
    },
    {
      "cell_type": "markdown",
      "source": [
        "# Restrições"
      ],
      "metadata": {
        "id": "nvPq3B7-3mhD"
      }
    },
    {
      "cell_type": "markdown",
      "source": [
        "Tempo de montagem gasto na operação 1"
      ],
      "metadata": {
        "id": "jn9wxj1P3qU9"
      }
    },
    {
      "cell_type": "code",
      "source": [
        "modelo.addConstr(tren_var*1 + caminhao_var*2 + carro_var*1 <= 430, \"Tempo operação 1\")"
      ],
      "metadata": {
        "colab": {
          "base_uri": "https://localhost:8080/"
        },
        "id": "ACSq0cjK30ec",
        "outputId": "9b51353e-7d96-46f8-fd3a-899ef65bcc56"
      },
      "execution_count": null,
      "outputs": [
        {
          "output_type": "execute_result",
          "data": {
            "text/plain": [
              "<gurobi.Constr *Awaiting Model Update*>"
            ]
          },
          "metadata": {},
          "execution_count": 7
        }
      ]
    },
    {
      "cell_type": "markdown",
      "source": [
        "Tempo de montagem gasto na operação 2"
      ],
      "metadata": {
        "id": "3Zf7Fzpx4IGY"
      }
    },
    {
      "cell_type": "code",
      "source": [
        "modelo.addConstr(tren_var*3 + caminhao_var*0 + carro_var*2 <= 460, \"Tempo operação 2\")"
      ],
      "metadata": {
        "colab": {
          "base_uri": "https://localhost:8080/"
        },
        "id": "ucp3T3Bp4Syq",
        "outputId": "3015d931-7576-4726-fac5-f4a08743d4dc"
      },
      "execution_count": null,
      "outputs": [
        {
          "output_type": "execute_result",
          "data": {
            "text/plain": [
              "<gurobi.Constr *Awaiting Model Update*>"
            ]
          },
          "metadata": {},
          "execution_count": 8
        }
      ]
    },
    {
      "cell_type": "markdown",
      "source": [
        "Tempo de montagem gasto na operação 3"
      ],
      "metadata": {
        "id": "KxlYexIe4tTp"
      }
    },
    {
      "cell_type": "code",
      "source": [
        "modelo.addConstr(tren_var*1 + caminhao_var*4 + carro_var*0 <= 420, \"Tempo operação 3\")"
      ],
      "metadata": {
        "colab": {
          "base_uri": "https://localhost:8080/"
        },
        "id": "-qxrOept4uzw",
        "outputId": "7cabb198-5d5e-49c1-c0b2-8e9ea1fa851f"
      },
      "execution_count": null,
      "outputs": [
        {
          "output_type": "execute_result",
          "data": {
            "text/plain": [
              "<gurobi.Constr *Awaiting Model Update*>"
            ]
          },
          "metadata": {},
          "execution_count": 9
        }
      ]
    },
    {
      "cell_type": "markdown",
      "source": [
        "# Solução do Problema"
      ],
      "metadata": {
        "id": "qGiGlHzl5CKi"
      }
    },
    {
      "cell_type": "code",
      "source": [
        "modelo.optimize()"
      ],
      "metadata": {
        "colab": {
          "base_uri": "https://localhost:8080/"
        },
        "id": "2HJ0jaWR5HCZ",
        "outputId": "b9bdbe9b-7bce-40c0-fe42-3acf084b9f68"
      },
      "execution_count": null,
      "outputs": [
        {
          "output_type": "stream",
          "name": "stdout",
          "text": [
            "Gurobi Optimizer version 12.0.3 build v12.0.3rc0 (linux64 - \"Ubuntu 22.04.4 LTS\")\n",
            "\n",
            "CPU model: Intel(R) Xeon(R) CPU @ 2.20GHz, instruction set [SSE2|AVX|AVX2]\n",
            "Thread count: 1 physical cores, 2 logical processors, using up to 2 threads\n",
            "\n",
            "Optimize a model with 3 rows, 3 columns and 7 nonzeros\n",
            "Model fingerprint: 0xdea19072\n",
            "Coefficient statistics:\n",
            "  Matrix range     [1e+00, 4e+00]\n",
            "  Objective range  [2e+00, 5e+00]\n",
            "  Bounds range     [0e+00, 0e+00]\n",
            "  RHS range        [4e+02, 5e+02]\n",
            "Presolve time: 0.00s\n",
            "Presolved: 3 rows, 3 columns, 7 nonzeros\n",
            "\n",
            "Iteration    Objective       Primal Inf.    Dual Inf.      Time\n",
            "       0    1.5000000e+31   5.500000e+30   1.500000e+01      0s\n",
            "       2    1.3500000e+03   0.000000e+00   0.000000e+00      0s\n",
            "\n",
            "Solved in 2 iterations and 0.01 seconds (0.00 work units)\n",
            "Optimal objective  1.350000000e+03\n"
          ]
        }
      ]
    },
    {
      "cell_type": "markdown",
      "source": [
        "# Imprimir as soluções"
      ],
      "metadata": {
        "id": "S-LIj4S75KTp"
      }
    },
    {
      "cell_type": "code",
      "source": [
        "if(modelo.status == GRB.OPTIMAL):\n",
        "  print(f\"Trens: {tren_var.X}\")\n",
        "  print(f\"Caminhao: {caminhao_var.X}\")\n",
        "  print(f\"Carro: {carro_var.X}\")\n",
        "  print(f\"Valor ótimo: {modelo.objVal}\")"
      ],
      "metadata": {
        "colab": {
          "base_uri": "https://localhost:8080/"
        },
        "id": "KLeLC0PB5NGz",
        "outputId": "6134b5b4-becf-41ea-c46c-57e144c212c3"
      },
      "execution_count": null,
      "outputs": [
        {
          "output_type": "stream",
          "name": "stdout",
          "text": [
            "Trens: 0.0\n",
            "Caminhao: 100.0\n",
            "Carro: 230.0\n",
            "Valor ótimo: 1350.0\n"
          ]
        }
      ]
    },
    {
      "cell_type": "markdown",
      "source": [
        "# Analise de sensibilidade"
      ],
      "metadata": {
        "id": "Ni9u0t586chF"
      }
    },
    {
      "cell_type": "markdown",
      "source": [
        "**Parte 2:** Faça a análise de sensibilidade do problema acima."
      ],
      "metadata": {
        "id": "uqpqBUObrOLD"
      }
    },
    {
      "cell_type": "code",
      "source": [
        "print(\"\\nIntervalos de Custos (Vetor de Custos):\")\n",
        "for variavel in modelo.getVars():\n",
        "\n",
        "  print(f\"Variável {variavel.VarName}:\")\n",
        "  print(f\"  lower bound do custo (SAObjLow): {variavel.SAObjLow}\")\n",
        "  print(f\"  upper bound do custo (SAObjUp): {variavel.SAObjUp}\")\n",
        "\n",
        "print(\"\\nIntervalos de Recursos (Vetor de Recursos):\")\n",
        "for restricao in modelo.getConstrs():\n",
        "  print(f\"Restrição {restricao.ConstrName}:\")\n",
        "  print(f\"  lower bound do recurso (SARHSLow): {restricao.SARHSLow}\")\n",
        "  print(f\"  upper bound do recurso (SARHSUp): {restricao.SARHSUp}\")\n",
        "  print(f\"  variável dual (SARHSLow): {restricao.Pi}\")\n",
        "  print(f\"  folga (SARHSLow): {restricao.Slack}\")"
      ],
      "metadata": {
        "colab": {
          "base_uri": "https://localhost:8080/"
        },
        "id": "RqmIwczo6hU4",
        "outputId": "cb8ea0c3-b887-44c2-c524-4e38a7825975"
      },
      "execution_count": null,
      "outputs": [
        {
          "output_type": "stream",
          "name": "stdout",
          "text": [
            "\n",
            "Intervalos de Custos (Vetor de Custos):\n",
            "Variável tren:\n",
            "  lower bound do custo (SAObjLow): -inf\n",
            "  upper bound do custo (SAObjUp): 7.0\n",
            "Variável caminhao:\n",
            "  lower bound do custo (SAObjLow): -0.0\n",
            "  upper bound do custo (SAObjUp): 10.0\n",
            "Variável carro:\n",
            "  lower bound do custo (SAObjLow): 2.3333333333333335\n",
            "  upper bound do custo (SAObjUp): inf\n",
            "\n",
            "Intervalos de Recursos (Vetor de Recursos):\n",
            "Restrição Tempo operação 1:\n",
            "  lower bound do recurso (SARHSLow): 230.0\n",
            "  upper bound do recurso (SARHSUp): 440.0\n",
            "  variável dual (SARHSLow): 1.0\n",
            "  folga (SARHSLow): 0.0\n",
            "Restrição Tempo operação 2:\n",
            "  lower bound do recurso (SARHSLow): 440.0\n",
            "  upper bound do recurso (SARHSUp): 860.0\n",
            "  variável dual (SARHSLow): 2.0\n",
            "  folga (SARHSLow): 0.0\n",
            "Restrição Tempo operação 3:\n",
            "  lower bound do recurso (SARHSLow): 400.0\n",
            "  upper bound do recurso (SARHSUp): inf\n",
            "  variável dual (SARHSLow): 0.0\n",
            "  folga (SARHSLow): 20.0\n"
          ]
        }
      ]
    },
    {
      "cell_type": "markdown",
      "source": [
        "# Enunciados"
      ],
      "metadata": {
        "id": "Bp4zS9y82tJl"
      }
    },
    {
      "cell_type": "markdown",
      "source": [
        "**Parte 3:** Suponha que a toyco insira um novo brinquedo, que gaste 2, 3 e 3 minutos para realizar as operações 1, 2 e 3, respectivamente. Qual é o valor da receita desse novo brinquedo, para que o novo brinquedo possa fazer parte da base?\n",
        "* *Implemente ou resolva essa questão manualmente.*"
      ],
      "metadata": {
        "id": "rFEXfGdCrZw8"
      }
    }
  ]
}