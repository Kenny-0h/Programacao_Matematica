{
  "nbformat": 4,
  "nbformat_minor": 0,
  "metadata": {
    "colab": {
      "provenance": [],
      "include_colab_link": true
    },
    "kernelspec": {
      "name": "python3",
      "display_name": "Python 3"
    },
    "language_info": {
      "name": "python"
    }
  },
  "cells": [
    {
      "cell_type": "markdown",
      "metadata": {
        "id": "view-in-github",
        "colab_type": "text"
      },
      "source": [
        "<a href=\"https://colab.research.google.com/github/Kenny-0h/Programacao_Matematica/blob/main/C%C3%B3pia_de_Lot_Sizing_aula.ipynb\" target=\"_parent\"><img src=\"https://colab.research.google.com/assets/colab-badge.svg\" alt=\"Open In Colab\"/></a>"
      ]
    },
    {
      "cell_type": "markdown",
      "source": [
        "# GCC118 - Programação Matemática\n",
        "## Universidade Federal de Lavras\n",
        "### Instituto de Ciências Exatas e Tecnológicas\n",
        "#### Profa. Andreza C. Beezão Moreira (DMM/UFLA)\n",
        "#### Prof. Mayron César O. Moreira (DCC/UFLA)"
      ],
      "metadata": {
        "id": "7YcVBRS7bEzs"
      }
    },
    {
      "cell_type": "markdown",
      "source": [
        "## Problema\n",
        "\n",
        "Considere a empresa Minas Máquinas, que fabrica $n$ produtos e deseja programar sua produção nos próximos $T$ períodos. Cada produto possui uma demanda específica em cada período, que deve ser exatamente atendida. Os custos de produção (e estoque) dependem da quantidade produzida (e estocada) e variam de acordo com o item e o período. A produção de um determinado item consome uma certa quantidade de recurso (por exemplo: água, energia, gás, etc) pré-determinada para o período em questão.\n",
        "\n",
        "Diante deste cenário, defina um modelo matemático (inicialmente teórico) que ajude a empresa a planejar o controle da produção dos produtos em cada período, visando a minimização dos custos de produção e de estocagem.\n",
        "\n",
        "### Dados\n",
        "\n",
        "| Produtos | Período 1 | Período 2 |\n",
        "|----------|-----------|-----------|\n",
        "| **1**    | 100       | 80        |\n",
        "| **2**    | 60        | 80        |\n",
        "| **3**    | 30        | 200       |\n",
        "\n",
        "**Tabela:** Custos de produção.\n",
        "\n",
        "| Produtos | Período 1 | Período 2 |\n",
        "|----------|-----------|-----------|\n",
        "| **1**    | 2         | 2.5       |\n",
        "| **2**    | 3         | 3.5       |\n",
        "| **3**    | 3.5       | 3.5       |\n",
        "\n",
        "**Tabela:** Custos de estoque.\n",
        "\n",
        "| Produtos | Período 1 | Período 2 |\n",
        "|----------|-----------|-----------|\n",
        "| **1**    | 50        | 20        |\n",
        "| **2**    | 40        | 60        |\n",
        "| **3**    | 100       | 80        |\n",
        "\n",
        "**Tabela:** Demanda.\n",
        "\n",
        "| Recursos         | Valores |\n",
        "|------------------|---------|\n",
        "| **R**            | [200, 250] |\n",
        "| **r**            | [0.25, 0.3, 0.3] |\n",
        "\n",
        "**Tabela:** Recursos.\n",
        "\n",
        "| Estoque Inicial | Valores       |\n",
        "|------------------|---------------|\n",
        "| **I0**           | [0, 0, 0]     |\n",
        "\n",
        "**Tabela:** Estoque inicial.\n",
        "\n"
      ],
      "metadata": {
        "id": "nwDl9k7nAR_J"
      }
    },
    {
      "cell_type": "markdown",
      "source": [
        "## Instalação da biblioteca PuLP\n",
        "\n",
        "Para mais informações, acesse: [PuLP 2.9.0](https://pypi.org/project/PuLP/)."
      ],
      "metadata": {
        "id": "gDSX7cj5bweS"
      }
    },
    {
      "cell_type": "code",
      "execution_count": null,
      "metadata": {
        "id": "4O-RtOj9au6i",
        "outputId": "9407be3a-0ef0-44bd-cf71-e061042e2217",
        "colab": {
          "base_uri": "https://localhost:8080/"
        }
      },
      "outputs": [
        {
          "output_type": "stream",
          "name": "stdout",
          "text": [
            "Requirement already satisfied: pulp in /usr/local/lib/python3.12/dist-packages (3.2.2)\n"
          ]
        }
      ],
      "source": [
        "!pip install pulp\n",
        "import pulp"
      ]
    },
    {
      "cell_type": "markdown",
      "source": [
        "## Declaração dos parâmetros\n",
        "\n",
        "* $N$: conjunto de produtos.   \n",
        "* $T$: conjunto de períodos.  \n",
        "* $R_t \\in \\mathbb{R}_+$: total de recursos no período $t \\in T$.  \n",
        "* $r_i \\in \\mathbb{R}_+$: recurso demandado pela produção de cada unidade do produto $i \\in N$.      \n",
        "* $c_{it} \\in \\mathbb{R}_+$: custo de produção do produto $i \\in N$ no período $t \\in T$.   \n",
        "* $h_{it} \\in \\mathbb{R}_+$: custo de estocagem do produto $i \\in N$ no período $t \\in T$.   \n",
        "* $d_{it} \\in \\mathbb{R}_+$: demanda do produto $i \\in N$ no período $t \\in T$.  "
      ],
      "metadata": {
        "id": "TuBKVB0dcKJj"
      }
    },
    {
      "cell_type": "code",
      "source": [
        "produtos = [1, 2, 3]\n",
        "\n",
        "periodos = [1, 2]\n",
        "\n",
        "indices_variaveis = [(produto, periodo) for produto in produtos for periodo in periodos]\n",
        "\n",
        "# (produto, periodo)\n",
        "custos_de_producao = {\n",
        "   (1, 1): 100,\n",
        "   (1, 2): 80,\n",
        "   (2, 1): 60,\n",
        "   (2, 2): 80,\n",
        "   (3, 1): 30,\n",
        "   (3, 2): 200\n",
        "}\n",
        "\n",
        "custos_de_estoque = {\n",
        "   (1, 1): 2,\n",
        "   (1, 2): 2.5,\n",
        "   (2, 1): 3,\n",
        "   (2, 2): 3.5,\n",
        "   (3, 1): 3.5,\n",
        "   (3, 2): 3.5\n",
        "}\n",
        "\n",
        "demanda_de_produto = {\n",
        "   (1, 1): 50,\n",
        "   (1, 2): 20,\n",
        "   (2, 1): 40,\n",
        "   (2, 2): 60,\n",
        "   (3, 1): 100,\n",
        "   (3, 2): 80\n",
        "}\n",
        "\n",
        "recursos_por_periodo = {\n",
        "   1: 200,\n",
        "   2: 250\n",
        "}\n",
        "\n",
        "recursos_de_produto = {\n",
        "   1: 0.25,\n",
        "   2: 0.3,\n",
        "   3: 0.3\n",
        "}\n",
        "\n",
        "estoque_inicial = [0, 0, 0]"
      ],
      "metadata": {
        "id": "j2jcIdoTcTE7"
      },
      "execution_count": null,
      "outputs": []
    },
    {
      "cell_type": "markdown",
      "source": [
        "## Declaração do objeto que representa o modelo matemático"
      ],
      "metadata": {
        "id": "0Dr-_-xjdul1"
      }
    },
    {
      "cell_type": "code",
      "source": [
        "modelo = pulp.LpProblem('lot_sizing', pulp.LpMinimize)"
      ],
      "metadata": {
        "id": "g1eMgL7LbDls"
      },
      "execution_count": null,
      "outputs": []
    },
    {
      "cell_type": "markdown",
      "source": [
        "## Variáveis de decisão\n",
        "\n",
        "* $x_{it} \\ge 0$: quantidade de produtos $i \\in N$ produzidos no período $t \\in T$.  \n",
        "* $I_{it} \\ge 0$: quantidade de produtos $i \\in N$ estocados no fim do perído $t \\in T$.  "
      ],
      "metadata": {
        "id": "kHRXi46jeJYC"
      }
    },
    {
      "cell_type": "code",
      "source": [
        "producao_vars = pulp.LpVariable.dicts('producao', indices_variaveis, lowBound=0)\n",
        "estoque_vars = pulp.LpVariable.dicts('estoque', indices_variaveis, lowBound=0)"
      ],
      "metadata": {
        "id": "uLzHZdaReIWO"
      },
      "execution_count": null,
      "outputs": []
    },
    {
      "cell_type": "code",
      "source": [
        "producao_vars"
      ],
      "metadata": {
        "id": "8Sraqch5rTxd",
        "colab": {
          "base_uri": "https://localhost:8080/"
        },
        "outputId": "46548f80-d8c8-4b22-c48d-78bf5079e4a2"
      },
      "execution_count": null,
      "outputs": [
        {
          "output_type": "execute_result",
          "data": {
            "text/plain": [
              "{(1, 1): producao_(1,_1),\n",
              " (1, 2): producao_(1,_2),\n",
              " (2, 1): producao_(2,_1),\n",
              " (2, 2): producao_(2,_2),\n",
              " (3, 1): producao_(3,_1),\n",
              " (3, 2): producao_(3,_2)}"
            ]
          },
          "metadata": {},
          "execution_count": 26
        }
      ]
    },
    {
      "cell_type": "markdown",
      "source": [
        "## Função objetivo\n",
        "\n",
        "* Minimização dos custos de produção e estocagem: $\\min \\sum_{i \\in N}\\sum_{t \\in T} (c_{it}x_{it} + h_{it}I_{it})$"
      ],
      "metadata": {
        "id": "DmrN-xfoehPi"
      }
    },
    {
      "cell_type": "code",
      "source": [
        "modelo += pulp.lpSum([custos_de_producao[indice_variavel] * producao_vars\n",
        "[indice_variavel] + custos_de_estoque[indice_variavel] * estoque_vars\n",
        "[indice_variavel] for indice_variavel in indices_variaveis])"
      ],
      "metadata": {
        "id": "3zCuxaOLegLB"
      },
      "execution_count": null,
      "outputs": []
    },
    {
      "cell_type": "code",
      "source": [
        "modelo"
      ],
      "metadata": {
        "id": "oGF1-xCnsqLi",
        "colab": {
          "base_uri": "https://localhost:8080/"
        },
        "outputId": "f5f3989d-bf8b-4922-de3b-953cf541d3f8"
      },
      "execution_count": null,
      "outputs": [
        {
          "output_type": "execute_result",
          "data": {
            "text/plain": [
              "lot_sizing:\n",
              "MINIMIZE\n",
              "2*estoque_(1,_1) + 2.5*estoque_(1,_2) + 3*estoque_(2,_1) + 3.5*estoque_(2,_2) + 3.5*estoque_(3,_1) + 3.5*estoque_(3,_2) + 100*producao_(1,_1) + 80*producao_(1,_2) + 60*producao_(2,_1) + 80*producao_(2,_2) + 30*producao_(3,_1) + 200*producao_(3,_2) + 0.0\n",
              "VARIABLES\n",
              "estoque_(1,_1) Continuous\n",
              "estoque_(1,_2) Continuous\n",
              "estoque_(2,_1) Continuous\n",
              "estoque_(2,_2) Continuous\n",
              "estoque_(3,_1) Continuous\n",
              "estoque_(3,_2) Continuous\n",
              "producao_(1,_1) Continuous\n",
              "producao_(1,_2) Continuous\n",
              "producao_(2,_1) Continuous\n",
              "producao_(2,_2) Continuous\n",
              "producao_(3,_1) Continuous\n",
              "producao_(3,_2) Continuous"
            ]
          },
          "metadata": {},
          "execution_count": 28
        }
      ]
    },
    {
      "cell_type": "markdown",
      "source": [
        "## Restrições\n",
        "\n"
      ],
      "metadata": {
        "id": "tnR02FDyeozi"
      }
    },
    {
      "cell_type": "markdown",
      "source": [
        "* Atendimento de demanda e definição de estoque: $x_{it} + I_{i,t-1} - d_{it} = I_{it}, \\forall i \\in N, \\forall t \\in T$."
      ],
      "metadata": {
        "id": "ZjoRyjFWeq5D"
      }
    },
    {
      "cell_type": "code",
      "source": [
        "for i in produtos:\n",
        "  for t in periodos:\n",
        "    if t == 1:\n",
        "      modelo += producao_vars[(i, t)] - estoque_vars[(i, t)] == demanda_de_produto[(i, t)]\n",
        "    else:\n",
        "      modelo += producao_vars[(i, t)] + estoque_vars[(i, t - 1)] - demanda_de_produto[(i, t)] == estoque_vars[(i, t)]"
      ],
      "metadata": {
        "id": "nIxAFQ3gfBYj"
      },
      "execution_count": null,
      "outputs": []
    },
    {
      "cell_type": "markdown",
      "source": [
        "* A produção em cada período deve respeitar a capacidade dos recursos: $\\sum_{i \\in N} r_ix_{it} \\le R_t, \\forall t \\in T$.  "
      ],
      "metadata": {
        "id": "HDnvheVVfbfo"
      }
    },
    {
      "cell_type": "code",
      "source": [
        "for periodo in periodos:\n",
        "  modelo += pulp.lpSum([recursos_de_produto[i] * producao_vars\n",
        "  [(i, periodo)] for i in produtos]) <= recursos_por_periodo[periodo]"
      ],
      "metadata": {
        "id": "6kBq6mdpffO6"
      },
      "execution_count": null,
      "outputs": []
    },
    {
      "cell_type": "markdown",
      "source": [
        "### Resolvendo o problema"
      ],
      "metadata": {
        "id": "x2Lpqq-5fiu6"
      }
    },
    {
      "cell_type": "code",
      "source": [
        "status = modelo.solve()"
      ],
      "metadata": {
        "id": "jMphNaEDfk-i"
      },
      "execution_count": null,
      "outputs": []
    },
    {
      "cell_type": "markdown",
      "source": [
        "## Imprimindo as soluções do problema"
      ],
      "metadata": {
        "id": "NfwY9yYDgnjX"
      }
    },
    {
      "cell_type": "code",
      "source": [
        "print('status: ', pulp.LpStatus[status])\n",
        "print('funcao objetivo: ', modelo.objective.value())\n",
        "print('solucoes')\n",
        "for indice_variavel in producao_vars:\n",
        "  print(indice_variavel, producao_vars[indice_variavel].value())\n",
        "for indice_variavel in estoque_vars:\n",
        "  print(indice_variavel, estoque_vars[indice_variavel].value())"
      ],
      "metadata": {
        "id": "V4FtNQyOgrhp",
        "colab": {
          "base_uri": "https://localhost:8080/"
        },
        "outputId": "bbf6be52-ec51-4e06-c6c9-90aeec870bab"
      },
      "execution_count": null,
      "outputs": [
        {
          "output_type": "stream",
          "name": "stdout",
          "text": [
            "status:  Optimal\n",
            "funcao objetivo:  18460.0\n",
            "solucoes\n",
            "(1, 1) 50.0\n",
            "(1, 2) 20.0\n",
            "(2, 1) 100.0\n",
            "(2, 2) 0.0\n",
            "(3, 1) 180.0\n",
            "(3, 2) 0.0\n",
            "(1, 1) 0.0\n",
            "(1, 2) 0.0\n",
            "(2, 1) 60.0\n",
            "(2, 2) 0.0\n",
            "(3, 1) 80.0\n",
            "(3, 2) 0.0\n"
          ]
        }
      ]
    }
  ]
}